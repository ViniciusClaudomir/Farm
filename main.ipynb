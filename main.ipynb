{
 "cells": [
  {
   "cell_type": "code",
   "execution_count": 50,
   "metadata": {},
   "outputs": [],
   "source": [
    "import datetime\n",
    "import time\n",
    "import json\n",
    "import os\n",
    "import shutil\n",
    "import sys\n",
    "import pandas as pd\n",
    "from load_config import *"
   ]
  },
  {
   "cell_type": "code",
   "execution_count": null,
   "metadata": {},
   "outputs": [],
   "source": []
  },
  {
   "cell_type": "code",
   "execution_count": 4,
   "metadata": {},
   "outputs": [],
   "source": [
    "df_plants = {\n",
    "    'Plant':['Abacate'],\n",
    "    'Buy':['15'],\n",
    "    'Sold':['18'],\n",
    "    'Time':['60'],\n",
    "    'Count':['1'],\n",
    "    'Exp':['15']\n",
    "    'Station':['Spring']\n",
    "}\n",
    "pd.DataFrame(df_plants).to_csv('Configure_farm.csv')"
   ]
  },
  {
   "cell_type": "code",
   "execution_count": 49,
   "metadata": {},
   "outputs": [],
   "source": [
    "class Farm():\n",
    "    \n",
    "    def __init__(self,name):\n",
    "        \n",
    "        if not name in LOAD_CONFIG.keys():\n",
    "            return 202\n",
    "        \n",
    "        name = LOAD_CONFIG[name]\n",
    "        self.__config_storage = name['Storage']\n",
    "        self.__level = name['Level']\n",
    "        self.__station = name['Station']\n",
    "        self.name = name\n",
    "        self.gold = name['Gold']\n",
    "        self.plant = name['Farm']\n"
   ]
  },
  {
   "cell_type": "code",
   "execution_count": 40,
   "metadata": {},
   "outputs": [],
   "source": [
    "class Plant(Farm):\n",
    "    \n",
    "    def __init__ (self, name_plant, buy_price, sold_price, time_growth, count, station, farm):\n",
    "        self.gold = farm.gold\n",
    "        self.name_plant = name_plant\n",
    "        self.buy_price = buy_price\n",
    "        self.sold_price = sold_price\n",
    "        self.time_growth = time_growth\n",
    "        self.station = station\n",
    "        self.count_plant = 1 if (count < 1) else count\n",
    "        \n",
    "    \n",
    "\n",
    "    def buy(self, station):\n",
    "        '''\n",
    "            100 - Ok\n",
    "            101 - Insufficient money\n",
    "            102 - Out of season\n",
    "        \n",
    "        '''\n",
    "        if self.station in station:\n",
    "            if self.gold >= self.buy_price * self.count_plant:\n",
    "                self.gold -= self.buy_price * self.count_plant\n",
    "                return 100\n",
    "            \n",
    "            return 101\n",
    "        \n",
    "        else:\n",
    "            return 102\n",
    "    \n",
    "    def sold(self):\n",
    "        '''\n",
    "        50 - Transaction success\n",
    "        51 - Insufficient item\n",
    "        \n",
    "        '''\n",
    "        \n",
    "        if self.count_plant <= self.count_storage:\n",
    "            self.gold += self.sold_price * self.count_plant\n",
    "            return 50\n",
    "        return 51\n",
    "    \n",
    "    def time_plant(self):\n",
    "        self.time_ = 60 if ( self.time_growth == 0 ) else self.time_growth\n",
    "        \n",
    "                "
   ]
  },
  {
   "cell_type": "code",
   "execution_count": 51,
   "metadata": {},
   "outputs": [],
   "source": [
    "base = pd.read_csv('Configure_farm.csv')\n",
    "player = Farm('Vinicius')"
   ]
  },
  {
   "cell_type": "code",
   "execution_count": 52,
   "metadata": {},
   "outputs": [],
   "source": [
    "fruits = {}\n",
    "for index, row in base.iterrows():\n",
    "    \n",
    "    plant = Plant(row['Plant'], row['Buy'], row['Sold'], row['Time'], row['Count'], row['Station'], player)\n",
    "    fruits.setdefault(row['Plant'],plant)"
   ]
  },
  {
   "cell_type": "code",
   "execution_count": 56,
   "metadata": {},
   "outputs": [
    {
     "data": {
      "text/plain": [
       "'Autumn'"
      ]
     },
     "execution_count": 56,
     "metadata": {},
     "output_type": "execute_result"
    }
   ],
   "source": []
  },
  {
   "cell_type": "code",
   "execution_count": 45,
   "metadata": {},
   "outputs": [
    {
     "data": {
      "text/plain": [
       "101"
      ]
     },
     "execution_count": 45,
     "metadata": {},
     "output_type": "execute_result"
    }
   ],
   "source": [
    "fruits['Abacate'].buy('Spring')"
   ]
  },
  {
   "cell_type": "code",
   "execution_count": null,
   "metadata": {},
   "outputs": [],
   "source": []
  }
 ],
 "metadata": {
  "kernelspec": {
   "display_name": "Python 3",
   "language": "python",
   "name": "python3"
  },
  "language_info": {
   "codemirror_mode": {
    "name": "ipython",
    "version": 3
   },
   "file_extension": ".py",
   "mimetype": "text/x-python",
   "name": "python",
   "nbconvert_exporter": "python",
   "pygments_lexer": "ipython3",
   "version": "3.7.5"
  }
 },
 "nbformat": 4,
 "nbformat_minor": 4
}
