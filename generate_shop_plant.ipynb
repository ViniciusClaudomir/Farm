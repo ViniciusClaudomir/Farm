{
 "cells": [
  {
   "cell_type": "code",
   "execution_count": 1,
   "metadata": {},
   "outputs": [],
   "source": [
    "import pandas as pd\n",
    "import random\n",
    "import re"
   ]
  },
  {
   "cell_type": "code",
   "execution_count": 2,
   "metadata": {},
   "outputs": [],
   "source": [
    "df_plants = {\n",
    "    'Plant':[],\n",
    "    'Buy':[],\n",
    "    'Sold':[],\n",
    "    'Time':[],\n",
    "    'Count':[],\n",
    "    'Exp':[],\n",
    "    'Level':[],\n",
    "    'Station':[]\n",
    "}\n"
   ]
  },
  {
   "cell_type": "code",
   "execution_count": 3,
   "metadata": {},
   "outputs": [],
   "source": [
    "base = pd.read_excel('plants.xlsx', skiprows = 2)"
   ]
  },
  {
   "cell_type": "code",
   "execution_count": 4,
   "metadata": {},
   "outputs": [],
   "source": [
    "organicos = []\n",
    "for x in base['ATIVIDADES'].str.split(','):\n",
    "    if type(x) == list:\n",
    "        if not re.search(';|\\(|\\.|\\)|\\\\|\\/|\\*',''.join(x)):\n",
    "            organicos += [y.strip().upper() for y in x if len(y.split(' ')) == 1 and len(y) < 20 and len(y) > 1]\n"
   ]
  },
  {
   "cell_type": "code",
   "execution_count": 5,
   "metadata": {},
   "outputs": [],
   "source": [
    "organicos = list(set(organicos))"
   ]
  },
  {
   "cell_type": "code",
   "execution_count": 6,
   "metadata": {},
   "outputs": [],
   "source": [
    "for fruta in organicos:\n",
    "    df_plants['Plant'].append(fruta)\n",
    "    buy = random.randint(100,10000)\n",
    "    df_plants['Buy'].append(buy)\n",
    "    df_plants['Sold'].append(int(buy * 1.30))\n",
    "    df_plants['Time'].append(random.randint(10,36000))\n",
    "    df_plants['Count'].append(1)\n",
    "    df_plants['Exp'].append(int(random.randint(10,36000)/5))\n",
    "    df_plants['Level'].append(random.randint(1,200))\n",
    "    df_plants['Station'].append(['Spring', 'Summer', 'Autumn', 'Winter'][random.randint(0,3)])\n",
    "pd.DataFrame(df_plants).to_csv('Configure_farm.csv', index = False)"
   ]
  },
  {
   "cell_type": "code",
   "execution_count": 57,
   "metadata": {},
   "outputs": [
    {
     "data": {
      "text/plain": [
       "120.0"
      ]
     },
     "execution_count": 57,
     "metadata": {},
     "output_type": "execute_result"
    }
   ],
   "source": []
  },
  {
   "cell_type": "code",
   "execution_count": null,
   "metadata": {},
   "outputs": [],
   "source": []
  },
  {
   "cell_type": "code",
   "execution_count": null,
   "metadata": {},
   "outputs": [],
   "source": []
  }
 ],
 "metadata": {
  "kernelspec": {
   "display_name": "Python 3",
   "language": "python",
   "name": "python3"
  },
  "language_info": {
   "codemirror_mode": {
    "name": "ipython",
    "version": 3
   },
   "file_extension": ".py",
   "mimetype": "text/x-python",
   "name": "python",
   "nbconvert_exporter": "python",
   "pygments_lexer": "ipython3",
   "version": "3.7.5"
  }
 },
 "nbformat": 4,
 "nbformat_minor": 4
}
