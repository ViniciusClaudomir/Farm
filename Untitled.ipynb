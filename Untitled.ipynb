{
 "cells": [
  {
   "cell_type": "code",
   "execution_count": 2,
   "metadata": {},
   "outputs": [],
   "source": [
    "import datetime\n",
    "import time\n",
    "import json\n",
    "import os\n",
    "import shutil\n",
    "import sys"
   ]
  },
  {
   "cell_type": "code",
   "execution_count": null,
   "metadata": {},
   "outputs": [],
   "source": [
    "class Farm():\n",
    "    \n",
    "    def __init__(name):\n",
    "        self.name = name\n",
    "        \n",
    "    def _money_(self):\n",
    "        self.gold = 0\n",
    "        \n",
    "    def _plant_(name):\n",
    "        self.plant = {}"
   ]
  },
  {
   "cell_type": "code",
   "execution_count": null,
   "metadata": {},
   "outputs": [],
   "source": [
    "class Plant():\n",
    "    \n",
    "    def __init__ (name_plant, buy_price, sold_price, time_growth, count, station):\n",
    "        \n",
    "        self.name_plant = name_plant\n",
    "        self.buy_price = buy_price\n",
    "        self.sold_price = sold_price\n",
    "        self.time_growth = time_growth\n",
    "        self.station = station\n",
    "        self.count_plant = 1 if (count < 1) else count\n",
    "        \n",
    "    \n",
    "\n",
    "    def buy(self):\n",
    "        '''\n",
    "            100 - Ok\n",
    "            101 - Insufficient money\n",
    "            102 - Out of season\n",
    "        \n",
    "        '''\n",
    "        if self.station in station:\n",
    "            if self.gold >= self.buy_price * self.count_plant:\n",
    "                self.gold -= self.buy_price * self.count_plant\n",
    "                return 100\n",
    "            \n",
    "            return 101\n",
    "        \n",
    "        else:\n",
    "            return 102"
   ]
  }
 ],
 "metadata": {
  "kernelspec": {
   "display_name": "Python 3",
   "language": "python",
   "name": "python3"
  },
  "language_info": {
   "codemirror_mode": {
    "name": "ipython",
    "version": 3
   },
   "file_extension": ".py",
   "mimetype": "text/x-python",
   "name": "python",
   "nbconvert_exporter": "python",
   "pygments_lexer": "ipython3",
   "version": "3.7.5"
  }
 },
 "nbformat": 4,
 "nbformat_minor": 4
}
